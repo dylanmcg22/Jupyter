{
 "cells": [
  {
   "cell_type": "code",
   "execution_count": 1,
   "metadata": {},
   "outputs": [],
   "source": [
    "import openpyxl"
   ]
  },
  {
   "cell_type": "code",
   "execution_count": 2,
   "metadata": {},
   "outputs": [],
   "source": [
    "work_book = openpyxl.Workbook()"
   ]
  },
  {
   "cell_type": "code",
   "execution_count": 3,
   "metadata": {},
   "outputs": [],
   "source": [
    "work_sheet = work_book.active"
   ]
  },
  {
   "cell_type": "code",
   "execution_count": 4,
   "metadata": {},
   "outputs": [],
   "source": [
    "data = ([\"Champion\", \"Year\"],\n",
    "        [\"France\", 2018],\n",
    "        [\"Spain\", 2010],\n",
    "        [\"Italy\", 2006],\n",
    "        [\"France\", 1998],\n",
    "        [\"Brazil\", 1994],\n",
    "        [\"Argentina\", 1986],\n",
    "        [\"Italy\", 1982],\n",
    "        [\"Argentina\", 1978],\n",
    "        [\"Germany\", 1974],\n",
    "        [\"Brazil\", 1970],\n",
    "        [\"England\", 1966],\n",
    "        [\"Brazil\", 1962],\n",
    "        [\"Brazil\", 1958],\n",
    "        [\"Germany\", 2014],\n",
    "        [\"Germany\", 1954],\n",
    "        [\"Uruguay\", 1950],\n",
    "        [\"Italy\", 1938],\n",
    "        [\"Italy\", 1934],\n",
    "        [\"Uruguay\", 1930],\n",
    "        [\"Germany\", 1990],\n",
    "        [\"Brazil\", 2002])"
   ]
  },
  {
   "cell_type": "code",
   "execution_count": 5,
   "metadata": {},
   "outputs": [],
   "source": [
    "for r in data:\n",
    "    work_sheet.append(r)"
   ]
  },
  {
   "cell_type": "code",
   "execution_count": 6,
   "metadata": {},
   "outputs": [],
   "source": [
    "work_book.save('exceljupyter/world_cup_winners.xlsx')"
   ]
  },
  {
   "cell_type": "code",
   "execution_count": 7,
   "metadata": {},
   "outputs": [
    {
     "data": {
      "text/plain": [
       "'A1:B22'"
      ]
     },
     "execution_count": 7,
     "metadata": {},
     "output_type": "execute_result"
    }
   ],
   "source": [
    "work_sheet.calculate_dimension()"
   ]
  },
  {
   "cell_type": "code",
   "execution_count": 8,
   "metadata": {},
   "outputs": [],
   "source": [
    "work_sheet.auto_filter.ref = work_sheet.calculate_dimension()"
   ]
  },
  {
   "cell_type": "code",
   "execution_count": 10,
   "metadata": {},
   "outputs": [],
   "source": [
    "work_sheet.auto_filter.add_filter_column(0, ['Brazil', 'Italy', 'Argentina'])"
   ]
  },
  {
   "cell_type": "code",
   "execution_count": 12,
   "metadata": {},
   "outputs": [],
   "source": [
    "work_book.save('exceljupyter/world_cup_winners.xlsx')"
   ]
  },
  {
   "cell_type": "code",
   "execution_count": 13,
   "metadata": {},
   "outputs": [
    {
     "data": {
      "text/plain": [
       "(<Cell 'Sheet'.B2>, <Cell 'Sheet'.B22>)"
      ]
     },
     "execution_count": 13,
     "metadata": {},
     "output_type": "execute_result"
    }
   ],
   "source": [
    "work_sheet['B'][1], work_sheet['B'][-1]"
   ]
  },
  {
   "cell_type": "code",
   "execution_count": 14,
   "metadata": {},
   "outputs": [
    {
     "data": {
      "text/plain": [
       "'B2:B22'"
      ]
     },
     "execution_count": 14,
     "metadata": {},
     "output_type": "execute_result"
    }
   ],
   "source": [
    "range_str = work_sheet['B'][1].coordinate + ':' + work_sheet['B'][-1].coordinate\n",
    "\n",
    "range_str"
   ]
  },
  {
   "cell_type": "code",
   "execution_count": 17,
   "metadata": {},
   "outputs": [],
   "source": [
    "work_sheet.auto_filter.add_sort_condition(range_str, descending = True)"
   ]
  },
  {
   "cell_type": "code",
   "execution_count": 18,
   "metadata": {},
   "outputs": [],
   "source": [
    "work_book.save('exceljupyter/world_cup_winners.xlsx')"
   ]
  },
  {
   "cell_type": "code",
   "execution_count": null,
   "metadata": {},
   "outputs": [],
   "source": []
  }
 ],
 "metadata": {
  "kernelspec": {
   "display_name": "Python 3",
   "language": "python",
   "name": "python3"
  },
  "language_info": {
   "codemirror_mode": {
    "name": "ipython",
    "version": 3
   },
   "file_extension": ".py",
   "mimetype": "text/x-python",
   "name": "python",
   "nbconvert_exporter": "python",
   "pygments_lexer": "ipython3",
   "version": "3.8.5"
  }
 },
 "nbformat": 4,
 "nbformat_minor": 4
}
